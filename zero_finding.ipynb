{
 "cells": [
  {
   "cell_type": "code",
   "execution_count": 1,
   "metadata": {},
   "outputs": [
    {
     "ename": "UndefVarError",
     "evalue": "UndefVarError: n not defined",
     "output_type": "error",
     "traceback": [
      "UndefVarError: n not defined\n",
      "\n",
      "Stacktrace:\n",
      " [1] top-level scope\n",
      "   @ ~/Desktop/Decentralized-Auctions/zero_finding.ipynb:30"
     ]
    }
   ],
   "source": [
    "using QuadGK\n",
    "using Roots\n",
    "\n",
    "θ_threshold(c,n) = ((n^2 - n)*c)^(1/n)\n",
    "\n",
    "\n",
    "# Tip function\n",
    "function t(c,θ,n)\n",
    "    if (θ < θ_threshold(c,n))\n",
    "        return 0\n",
    "    else\n",
    "        return (1/2)*(θ^n/n - (n-1)*c)\n",
    "    end\n",
    "end\n",
    "\n",
    "function t̂(c,n)\n",
    "    f(θ) = t(c,θ,n)\n",
    "    return f\n",
    "end\n",
    "    \n",
    "function expected_tip(n)\n",
    "    function g(c)\n",
    "        I,est = quadgk(t̂(c,n),0,1,rtol = 1e-8)\n",
    "        return I-c\n",
    "    end\n",
    "    return find_zero(g, (0,1), Bisection())\n",
    "end\n",
    "\n",
    "for i in 1:10\n",
    "    print(n*expected_tip(i),\"\\n\")\n",
    "end\n"
   ]
  },
  {
   "cell_type": "code",
   "execution_count": null,
   "metadata": {},
   "outputs": [
    {
     "ename": "SyntaxError",
     "evalue": "invalid syntax (2128438621.py, line 1)",
     "output_type": "error",
     "traceback": [
      "\u001b[0;36m  Cell \u001b[0;32mIn[3], line 1\u001b[0;36m\u001b[0m\n\u001b[0;31m    using Plots\u001b[0m\n\u001b[0m          ^\u001b[0m\n\u001b[0;31mSyntaxError\u001b[0m\u001b[0;31m:\u001b[0m invalid syntax\n"
     ]
    }
   ],
   "source": [
    "using Plots\n",
    "X = 1:100\n",
    "\n",
    "s(n) = 1/((n-1)*sqrt(n))\n",
    "\n",
    "plot(X,[X.*map(expected_tip,X),map(s,X)],lw = [3,3] , labels = [\"nE[t]\" \"1/((n-1)*sqrt(n))\"], title = \"Expected Total Tip\")"
   ]
  },
  {
   "cell_type": "code",
   "execution_count": null,
   "metadata": {},
   "outputs": [],
   "source": []
  }
 ],
 "metadata": {
  "kernelspec": {
   "display_name": "Julia 1.8.4",
   "language": "julia",
   "name": "julia-1.8"
  },
  "language_info": {
   "file_extension": ".jl",
   "mimetype": "application/julia",
   "name": "julia",
   "version": "1.8.4"
  },
  "orig_nbformat": 4,
  "vscode": {
   "interpreter": {
    "hash": "31f2aee4e71d21fbe5cf8b01ff0e069b9275f58929596ceb00d14d90e3e16cd6"
   }
  }
 },
 "nbformat": 4,
 "nbformat_minor": 2
}
